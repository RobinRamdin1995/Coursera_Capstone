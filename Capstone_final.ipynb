{
    "cells": [
        {
            "cell_type": "markdown",
            "metadata": {},
            "source": "# IBM Data Science Capstone Project "
        },
        {
            "cell_type": "markdown",
            "metadata": {},
            "source": "## Business Understanding"
        },
        {
            "cell_type": "markdown",
            "metadata": {},
            "source": "The aim of this study is to analyse the effect speciic parameters have on the severity of vehicular accidents and draw an understanding from machine learning models created. Ultimately the goal is to create a preventive mechanism to reduce the severity of accidents by quantifying the risk which drivers face based on their current location. "
        },
        {
            "cell_type": "markdown",
            "metadata": {},
            "source": "## Target Audience"
        },
        {
            "cell_type": "markdown",
            "metadata": {},
            "source": "The target audience are the potential stakeholders that might be interested within this study. Potential scenarios have been laid out to aid the reader's understanding. \n\n- Government: They can identify parameters which are under their control such as road lighting condition that have the highest contribution to the severity of accidents. This will allow them to prioritize financial resources to improve the safety of the citizens\n\n- Insurance Agencies: They can identify areas which are more prone to car accidents based on specific parameters and cater packages to ensure their clients protection\n\n- Healthcare & First Responders: Identifying areas with high likelyhood of severe accidents can enable them to effectively position their ambulances and other vehicles to reduce road casualties\n\nIn the ideal scenario, the machine learning model will inform the general public of the potential risk they face with statistical backing."
        },
        {
            "cell_type": "markdown",
            "metadata": {},
            "source": "## Data Understanding"
        },
        {
            "cell_type": "markdown",
            "metadata": {},
            "source": "The data set used for this report will be that provided by Coursera (Data-Collisions.csv). The specific attributes previously mentioned used for the machine learning model are as follow:\n\n- SEVERITYCODE (quantifying the severity of the acccident)\n- WEATHER (description of the weather conditions in a string format)\n- ROADCOND (description of the road conditions in a string format)\n- LIGHTCOND (description of the light conditions in a string format)\n\nThe selection of attributes highlight above was conducted in a way to achieve a holistic model. ROADCOND and LIGHTCOND are both parameters which are to some extent our control, while WEATHER is not a parameter within our control."
        },
        {
            "cell_type": "markdown",
            "metadata": {},
            "source": "## Data Preparation"
        },
        {
            "cell_type": "markdown",
            "metadata": {},
            "source": "The first step within the data preparation will be to simplify the dataset by using only the required attributes (columns), as such all attributes from the original dataset will be removed."
        },
        {
            "cell_type": "code",
            "execution_count": 1,
            "metadata": {},
            "outputs": [],
            "source": "#importing required packages \nimport pandas as pd \nimport numpy as np \nimport sklearn as skl\nimport matplotlib.pyplot as plt\n%matplotlib inline"
        },
        {
            "cell_type": "code",
            "execution_count": 28,
            "metadata": {},
            "outputs": [],
            "source": "#importing the dataset based on provided link \nURL = \"https://s3.us.cloud-object-storage.appdomain.cloud/cf-courses-data/CognitiveClass/DP0701EN/version-2/Data-Collisions.csv\"\nimport_df = pd.read_csv(URL) #importing the entire dataset "
        },
        {
            "cell_type": "code",
            "execution_count": 3,
            "metadata": {},
            "outputs": [],
            "source": "#selecting only desired attributes from dataframe \ndf = import_df[['SEVERITYCODE', 'WEATHER', 'ROADCOND', 'LIGHTCOND']]"
        },
        {
            "cell_type": "markdown",
            "metadata": {},
            "source": "### Data Cleaning"
        },
        {
            "cell_type": "markdown",
            "metadata": {},
            "source": "The next step is the cleaning up of the data, we will be removing all missing and unknonwn data from out dataframe"
        },
        {
            "cell_type": "code",
            "execution_count": 27,
            "metadata": {},
            "outputs": [],
            "source": "df.replace(\"\", np.NaN, inplace=True)#replace all empty data points with Nan \ndf.replace(\"Unknown\", np.NaN, inplace=True) #replace all unknown data points with Nan \ndf = df.dropna() #drop all rows containing Nan data points"
        },
        {
            "cell_type": "markdown",
            "metadata": {},
            "source": "Once completed we will ensure the code works by displaying the NaN variables within the df"
        },
        {
            "cell_type": "code",
            "execution_count": 5,
            "metadata": {},
            "outputs": [
                {
                    "data": {
                        "text/html": "<div>\n<style scoped>\n    .dataframe tbody tr th:only-of-type {\n        vertical-align: middle;\n    }\n\n    .dataframe tbody tr th {\n        vertical-align: top;\n    }\n\n    .dataframe thead th {\n        text-align: right;\n    }\n</style>\n<table border=\"1\" class=\"dataframe\">\n  <thead>\n    <tr style=\"text-align: right;\">\n      <th></th>\n      <th>SEVERITYCODE</th>\n      <th>WEATHER</th>\n      <th>ROADCOND</th>\n      <th>LIGHTCOND</th>\n    </tr>\n  </thead>\n  <tbody>\n  </tbody>\n</table>\n</div>",
                        "text/plain": "Empty DataFrame\nColumns: [SEVERITYCODE, WEATHER, ROADCOND, LIGHTCOND]\nIndex: []"
                    },
                    "execution_count": 5,
                    "metadata": {},
                    "output_type": "execute_result"
                }
            ],
            "source": "df[df.isnull().any(axis=1)] #ensuring there are no Nan variables in our dataframe"
        },
        {
            "cell_type": "markdown",
            "metadata": {},
            "source": "As shown above, an empty dataframe thereby proving it is in fact cleaned from those variables"
        },
        {
            "cell_type": "markdown",
            "metadata": {},
            "source": "### Data Type Consistency"
        },
        {
            "cell_type": "markdown",
            "metadata": {},
            "source": "When dealing with dataframes, we need to ensure our parameters are of the correct type prior to building our machine learning models. "
        },
        {
            "cell_type": "code",
            "execution_count": 6,
            "metadata": {},
            "outputs": [
                {
                    "data": {
                        "text/plain": "SEVERITYCODE     int64\nWEATHER         object\nROADCOND        object\nLIGHTCOND       object\ndtype: object"
                    },
                    "execution_count": 6,
                    "metadata": {},
                    "output_type": "execute_result"
                }
            ],
            "source": "df.dtypes #parameters are of type object, which must be changed prior to proceeding"
        },
        {
            "cell_type": "markdown",
            "metadata": {},
            "source": "As it can be observed above, three of our attributes are of the type 'object' which prevents us from conducting any numerical analysis on them. Label encoding will be used to assign numerical value to the three attributes and in doing so, create three new attributes "
        },
        {
            "cell_type": "code",
            "execution_count": 7,
            "metadata": {},
            "outputs": [],
            "source": "#converting objects to type category for label encoding\nweather_df = df[\"WEATHER\"].astype('category')\nroadcond_df = df[\"ROADCOND\"].astype('category')\nlightcond_df = df[\"LIGHTCOND\"].astype('category')\nweather_df = weather_df.cat.codes\nroadcond_df = roadcond_df.cat.codes\nlightcond_df = lightcond_df.cat.codes"
        },
        {
            "cell_type": "code",
            "execution_count": 8,
            "metadata": {},
            "outputs": [
                {
                    "data": {
                        "text/html": "<div>\n<style scoped>\n    .dataframe tbody tr th:only-of-type {\n        vertical-align: middle;\n    }\n\n    .dataframe tbody tr th {\n        vertical-align: top;\n    }\n\n    .dataframe thead th {\n        text-align: right;\n    }\n</style>\n<table border=\"1\" class=\"dataframe\">\n  <thead>\n    <tr style=\"text-align: right;\">\n      <th></th>\n      <th>SEVERITYCODE</th>\n      <th>WEATHER</th>\n      <th>ROADCON</th>\n      <th>LIGHTCOND</th>\n      <th>WEATHER_CAT</th>\n      <th>ROADCOND_CAT</th>\n      <th>LIGHTCOND_CAT</th>\n    </tr>\n  </thead>\n  <tbody>\n    <tr>\n      <th>0</th>\n      <td>2</td>\n      <td>Overcast</td>\n      <td>Wet</td>\n      <td>Daylight</td>\n      <td>4</td>\n      <td>7</td>\n      <td>5</td>\n    </tr>\n    <tr>\n      <th>1</th>\n      <td>1</td>\n      <td>Raining</td>\n      <td>Wet</td>\n      <td>Dark - Street Lights On</td>\n      <td>6</td>\n      <td>7</td>\n      <td>2</td>\n    </tr>\n    <tr>\n      <th>2</th>\n      <td>1</td>\n      <td>Overcast</td>\n      <td>Dry</td>\n      <td>Daylight</td>\n      <td>4</td>\n      <td>0</td>\n      <td>5</td>\n    </tr>\n    <tr>\n      <th>3</th>\n      <td>1</td>\n      <td>Clear</td>\n      <td>Dry</td>\n      <td>Daylight</td>\n      <td>1</td>\n      <td>0</td>\n      <td>5</td>\n    </tr>\n    <tr>\n      <th>4</th>\n      <td>2</td>\n      <td>Raining</td>\n      <td>Wet</td>\n      <td>Daylight</td>\n      <td>6</td>\n      <td>7</td>\n      <td>5</td>\n    </tr>\n  </tbody>\n</table>\n</div>",
                        "text/plain": "   SEVERITYCODE   WEATHER ROADCON                LIGHTCOND  WEATHER_CAT  \\\n0             2  Overcast     Wet                 Daylight            4   \n1             1   Raining     Wet  Dark - Street Lights On            6   \n2             1  Overcast     Dry                 Daylight            4   \n3             1     Clear     Dry                 Daylight            1   \n4             2   Raining     Wet                 Daylight            6   \n\n   ROADCOND_CAT  LIGHTCOND_CAT  \n0             7              5  \n1             7              2  \n2             0              5  \n3             0              5  \n4             7              5  "
                    },
                    "execution_count": 8,
                    "metadata": {},
                    "output_type": "execute_result"
                }
            ],
            "source": "#concat all dataframes into a single one \nhorizontal_stack = pd.concat([df, weather_df, roadcond_df, lightcond_df], axis=1) \ndf = horizontal_stack\n\n#renaming the column headers to the appropriate name\ndf.columns = ['SEVERITYCODE', 'WEATHER', 'ROADCON', 'LIGHTCOND', 'WEATHER_CAT', 'ROADCOND_CAT', 'LIGHTCOND_CAT']\ndf.head()"
        },
        {
            "cell_type": "markdown",
            "metadata": {},
            "source": "The three new attributes formed were WEATHER_CAT, ROADCOND_CAT and LIGHTCOND_CAT, which all hold numerical values based on the object they represent. "
        },
        {
            "cell_type": "markdown",
            "metadata": {},
            "source": "### Data Balancing"
        },
        {
            "cell_type": "markdown",
            "metadata": {},
            "source": "The last step of the data preparation phase is to ensure that our dataset is balanced. "
        },
        {
            "cell_type": "code",
            "execution_count": 9,
            "metadata": {},
            "outputs": [
                {
                    "name": "stdout",
                    "output_type": "stream",
                    "text": "1    114659\n2     55851\nName: SEVERITYCODE, dtype: int64\n"
                },
                {
                    "data": {
                        "image/png": "[encoded data removed]",
                        "text/plain": "<Figure size 432x288 with 1 Axes>"
                    },
                    "metadata": {
                        "needs_background": "light"
                    },
                    "output_type": "display_data"
                }
            ],
            "source": "#checking frequency of each integer within SEVERITYCODE\nprint(df['SEVERITYCODE'].value_counts())\ndf_balance_check = df['SEVERITYCODE'].value_counts()\ndf_balance_check.plot(kind=\"bar\")\nplt.title('Number of Accidents based on Severity Value')\nplt.xlabel('Severity Value')\nplt.ylabel('Number')\nplt.show()"
        },
        {
            "cell_type": "markdown",
            "metadata": {},
            "source": "As it can be observed from the bar chart above, our dataframe is not balanced. This can result into skewing of data and ultimately resulting into errors within our machine learning models. To avoid such inaccuracy we are required to balanced the dataframe."
        },
        {
            "cell_type": "code",
            "execution_count": 10,
            "metadata": {},
            "outputs": [],
            "source": "#importing the required package for resampling\nfrom sklearn.utils import resample  "
        },
        {
            "cell_type": "markdown",
            "metadata": {},
            "source": "Resample is a tool which allows us to resample our dataframe in a ramdom manner such that number of severity value = 1 match that of severity value = 2."
        },
        {
            "cell_type": "code",
            "execution_count": 11,
            "metadata": {},
            "outputs": [],
            "source": "#creating new dataframes based on SEVERITYCODE\ndf_major = df[df.SEVERITYCODE==1]\ndf_minor = df[df.SEVERITYCODE==2]\n\n#resampling df_major to the same size as that of df_minor\ndf_major_downsampled = resample(df_major, replace=False, n_samples=55851, random_state=13)"
        },
        {
            "cell_type": "code",
            "execution_count": 12,
            "metadata": {},
            "outputs": [],
            "source": "#concatenate both the dataframes into balanced dataframe\ndf_downsampled = pd.concat([df_major_downsampled, df_minor])"
        },
        {
            "cell_type": "code",
            "execution_count": 13,
            "metadata": {},
            "outputs": [
                {
                    "name": "stdout",
                    "output_type": "stream",
                    "text": "2    55851\n1    55851\nName: SEVERITYCODE, dtype: int64\n"
                },
                {
                    "data": {
                        "image/png": "[encoded data removed]",
                        "text/plain": "<Figure size 432x288 with 1 Axes>"
                    },
                    "metadata": {
                        "needs_background": "light"
                    },
                    "output_type": "display_data"
                }
            ],
            "source": "#ensuring the dataframe is balanced\nprint(df_downsampled.SEVERITYCODE.value_counts())\ndf_balance_check = df_downsampled.SEVERITYCODE.value_counts()\ndf_balance_check.plot(kind=\"bar\")\nplt.title('Number of Accidents based on Severity Value')\nplt.xlabel('Severity Value')\nplt.ylabel('Number')\nplt.show()"
        },
        {
            "cell_type": "markdown",
            "metadata": {},
            "source": "As it can be observed from the bar chart above, the dataframe was successfully balanced completing the Data Preparation Stage. For simplicity's sake, we will assign df_downsampled into df to avoid confusion"
        },
        {
            "cell_type": "code",
            "execution_count": 14,
            "metadata": {},
            "outputs": [
                {
                    "data": {
                        "text/plain": "(111702, 7)"
                    },
                    "execution_count": 14,
                    "metadata": {},
                    "output_type": "execute_result"
                }
            ],
            "source": "#using df for simplicity\ndf = df_downsampled\ndf.shape"
        },
        {
            "cell_type": "markdown",
            "metadata": {},
            "source": "A final check is conducted to ensure the dataframe has the correct number of rows and columns."
        },
        {
            "cell_type": "markdown",
            "metadata": {},
            "source": "## Modelling"
        },
        {
            "cell_type": "markdown",
            "metadata": {},
            "source": "Three classification algorithms will be used for the modeling section:\n- K-Nearest Neighbors -> Method of classifying based on their similarity \n- Decision Trees -> Displays the outcome to each decision \n- Logistic Regression -> Classificaton algorithm based on categorical variables \n"
        },
        {
            "cell_type": "markdown",
            "metadata": {},
            "source": "## Evaluation"
        },
        {
            "cell_type": "markdown",
            "metadata": {},
            "source": "### Evaluation Metrics"
        },
        {
            "cell_type": "markdown",
            "metadata": {},
            "source": "Two evaluation metrics will be used to assess the accuracy of our machine learning models"
        },
        {
            "cell_type": "code",
            "execution_count": 15,
            "metadata": {},
            "outputs": [],
            "source": "#importing the required library \nfrom sklearn.metrics import f1_score\nfrom sklearn.metrics import jaccard_similarity_score \n\n#Max parameter for loops will be set to an arbitrary value\nmax_loop = 26"
        },
        {
            "cell_type": "markdown",
            "metadata": {},
            "source": "### Initialization "
        },
        {
            "cell_type": "markdown",
            "metadata": {},
            "source": "Initialisation is defining the X component and y component for our model building. The former consist of our three attributes; WEATHER_CAT, ROADCOND_CAT & LIGHTCOND_CAT, while the latter consist of our predictor SEVERITYCODE."
        },
        {
            "cell_type": "code",
            "execution_count": 16,
            "metadata": {},
            "outputs": [],
            "source": "#Defining X and y\nX = np.asarray(df[['WEATHER_CAT', 'ROADCOND_CAT','LIGHTCOND_CAT']]) \ny = np.asarray(df['SEVERITYCODE']) "
        },
        {
            "cell_type": "markdown",
            "metadata": {},
            "source": "### Data Normalization"
        },
        {
            "cell_type": "markdown",
            "metadata": {},
            "source": "Data normalization is required to ensure the models are not skewed by variables with large magnitude. It is important to note that X was converted from type int to type float due to the normalization errors. Recall that an int divided by another int will result in rounding off to the nearest integer, which in this case will result into errors in our model."
        },
        {
            "cell_type": "code",
            "execution_count": 17,
            "metadata": {},
            "outputs": [],
            "source": "#Import the required library \nfrom sklearn import preprocessing \n\n#X was converted to type float due to warning message when normalising int values.\nX = X.astype(float)\n\n#Normalizing dataset \nX = preprocessing.StandardScaler().fit(X).transform(X)"
        },
        {
            "cell_type": "markdown",
            "metadata": {},
            "source": "### Spliting Data into Train/Test"
        },
        {
            "cell_type": "markdown",
            "metadata": {},
            "source": "Train/Test Split approach was selected as an evaluation approach. 70% of the dataframe will be used for model building while the remaining 30% will be used to evaluate the model's accuracy based on the evaluation metrics mentioned above."
        },
        {
            "cell_type": "code",
            "execution_count": 18,
            "metadata": {},
            "outputs": [
                {
                    "name": "stdout",
                    "output_type": "stream",
                    "text": "Train set:  (78191, 3) (78191,)\nTest set:  (33511, 3) (33511,)\n"
                }
            ],
            "source": "#import the required library \nfrom sklearn.model_selection import train_test_split\n\n#Split the data into training and testing set\nX_train, X_test, y_train, y_test =train_test_split(X,y,test_size=0.3, random_state=4)\nprint(\"Train set: \", X_train.shape, y_train.shape)\nprint(\"Test set: \",X_test.shape, y_test.shape)"
        },
        {
            "cell_type": "markdown",
            "metadata": {},
            "source": "## Model Analysis"
        },
        {
            "cell_type": "markdown",
            "metadata": {},
            "source": "With the evaluation framework in place, we will proceed with the analysis of the three machine learning models. The analysis will operate in two stages. "
        },
        {
            "cell_type": "markdown",
            "metadata": {},
            "source": "### K-Nearest Neighbors"
        },
        {
            "cell_type": "code",
            "execution_count": 19,
            "metadata": {},
            "outputs": [],
            "source": "#importing the required library\nfrom sklearn.neighbors import KNeighborsClassifier\nfrom sklearn import metrics\n\n#Looping across K parameter \nKs = max_loop\nmean_acc = np.zeros((Ks-1))\nstd_acc = np.zeros((Ks-1))\nConfustionMx = [];\nfor n in range(1,Ks):\n    #Train Model and Predict  \n    KNNneigh = KNeighborsClassifier(n_neighbors = n).fit(X_train,y_train)\n    KNNyhat=KNNneigh.predict(X_test)\n    mean_acc[n-1] = metrics.accuracy_score(y_test, KNNyhat)\n    std_acc[n-1]=np.std(KNNyhat==y_test)/np.sqrt(KNNyhat.shape[0])"
        },
        {
            "cell_type": "code",
            "execution_count": 20,
            "metadata": {},
            "outputs": [
                {
                    "data": {
                        "image/png": "[encoded data removed]",
                        "text/plain": "<Figure size 432x288 with 1 Axes>"
                    },
                    "metadata": {
                        "needs_background": "light"
                    },
                    "output_type": "display_data"
                }
            ],
            "source": "#plot the accuracy of the model with increments in K\nplt.plot(range(1,Ks),mean_acc,'g')\nplt.fill_between(range(1,Ks),mean_acc - 1 * std_acc,mean_acc + 1 * std_acc, alpha=0.10)\nplt.legend(('Accuracy ', '+/- 3xstd'))\nplt.ylabel('Accuracy ')\nplt.xlabel('Number of Neighbors (K)')\nplt.tight_layout()\nplt.show()"
        },
        {
            "cell_type": "markdown",
            "metadata": {},
            "source": "As it can be observed from this graph, the accuracy of the model peaked at K=2. Subsequent increments to the K-value resulted into a plateau at K = 7. Having identified the optimum value of K for our KNN model, we will proceed with evaluating the model at that particular value of K."
        },
        {
            "cell_type": "code",
            "execution_count": 21,
            "metadata": {},
            "outputs": [
                {
                    "name": "stdout",
                    "output_type": "stream",
                    "text": "F1-score:  0.4295358649789029\nJaccard Index:  0.5158604637283281\n"
                }
            ],
            "source": "#evaluation of the KNN model for k=2\nneigh = KNeighborsClassifier(n_neighbors=2).fit(X_train,y_train)\nyhat = neigh.predict(X_test)\n#print(\"Train set Accuracy: \", metrics.accuracy_score(y_train, neigh.predict(X_train)))\n#print(\"Test set Accuracy: \", metrics.accuracy_score(y_test, yhat))\nKNN_f1_score = f1_score(y_test, yhat)\nKNN_jaccard = jaccard_similarity_score(y_test,yhat)\nprint('F1-score: ',KNN_f1_score)\nprint('Jaccard Index: ', KNN_jaccard)"
        },
        {
            "cell_type": "markdown",
            "metadata": {},
            "source": "### Decision Tree "
        },
        {
            "cell_type": "code",
            "execution_count": 22,
            "metadata": {},
            "outputs": [],
            "source": "#importing the required library\nfrom sklearn.tree import DecisionTreeClassifier"
        },
        {
            "cell_type": "code",
            "execution_count": 23,
            "metadata": {},
            "outputs": [
                {
                    "name": "stdout",
                    "output_type": "stream",
                    "text": "F1-score:  0.38213494307327883\nJaccard Index:  0.5174121930112501\nOptimum value of max_depth:  2\n"
                }
            ],
            "source": "#Looping across the max depth parameter\nmax_param = max_loop\nf1_param = 0\n\nfor i in range(1,max_param):\n    dfTree = DecisionTreeClassifier(criterion = \"entropy\", max_depth = i)\n    dfTree.fit(X_train, y_train)\n    DTyhat = dfTree.predict(X_test)\n    DT_jaccard = jaccard_similarity_score(y_test,DTyhat)\n    DT_f1 = f1_score(y_test, DTyhat)\n    if DT_f1 > f1_param:  \n        f1_param = DT_f1\n        jaccard_param = DT_jaccard\n        optimum_depth = i\nprint(\"F1-score: \",f1_param)\nprint(\"Jaccard Index: \", jaccard_param)\nprint(\"Optimum value of max_depth: \", optimum_depth)"
        },
        {
            "cell_type": "markdown",
            "metadata": {},
            "source": "### Logistic Regression"
        },
        {
            "cell_type": "code",
            "execution_count": 24,
            "metadata": {},
            "outputs": [],
            "source": "#importing the requires library \nfrom sklearn.linear_model import LogisticRegression\nfrom sklearn.metrics import confusion_matrix\n\n#setting the C parameter value \nC_param_range = [0.001, 0.01, 0.1, 1, 10, 100]"
        },
        {
            "cell_type": "code",
            "execution_count": 25,
            "metadata": {},
            "outputs": [
                {
                    "name": "stdout",
                    "output_type": "stream",
                    "text": "F1-score:  0.3851143735063161\nJaccard Index:  0.5163080779445555\nOptimum N:  0.01\n"
                }
            ],
            "source": "#Looping across different C parameter\nLR_f1_optimum = 0\n\nfor n in C_param_range:\n    LR = LogisticRegression(C=n, solver='sag').fit(X_train,y_train)\n    LRyhat = LR.predict(X_test)\n    yhat_prob = LR.predict_proba(X_test)\n    LR_f1 = f1_score(y_test, LRyhat)\n    LR_jaccard = jaccard_similarity_score(y_test,LRyhat)\n    #LR_log = log_loss(y_test, yhat_prob)\n    if LR_f1_optimum < LR_f1:\n        LR_f1_optimum = LR_f1\n        LR_jaccard_optimum = LR_jaccard\n        optimum_N = n\nprint(\"F1-score: \",LR_f1_optimum)\nprint(\"Jaccard Index: \", LR_jaccard_optimum)\nprint(\"Optimum N: \", optimum_N)"
        },
        {
            "cell_type": "markdown",
            "metadata": {},
            "source": "## Discussion"
        },
        {
            "cell_type": "markdown",
            "metadata": {},
            "source": "The evaluation of the three models reflect an accuracy of approximately 51% as reflected by their Jaccard Index. Despite optimizing the respective models to their optimum parameters the accuracy of the test-set still fell short of desirable values. The percentage reflected barely crosses the midway point and signifies a relatively low similarity index between the predicted values based on our model and the actual values from the test set. The other metric used for evaluation was the F1-score, here again the evaluation results are rather poor with the highest F1-score in KNN method being 42.9%. Reflecting the models' accuracy on the dataset, landing below 50% signifies very poor accuracy of our models.  "
        },
        {
            "cell_type": "markdown",
            "metadata": {},
            "source": "## Conclusion\n"
        },
        {
            "cell_type": "markdown",
            "metadata": {},
            "source": "One of the common reasons for poor F1-score is due to unbalanced dataset, which is not the case here as it was previous taken care of. Overall the accuracy of the models built are under the desirable levels which are in the 70% range. A potential improvement for the model building will be the inclusion of additional attributes which might provide more accurate insight. In conclusion further improvement are required to provide any useful information to our target audience. "
        }
    ],
    "metadata": {
        "kernelspec": {
            "display_name": "Python 3.6",
            "language": "python",
            "name": "python3"
        },
        "language_info": {
            "codemirror_mode": {
                "name": "ipython",
                "version": 3
            },
            "file_extension": ".py",
            "mimetype": "text/x-python",
            "name": "python",
            "nbconvert_exporter": "python",
            "pygments_lexer": "ipython3",
            "version": "3.6.9"
        }
    },
    "nbformat": 4,
    "nbformat_minor": 1
}